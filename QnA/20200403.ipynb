{
 "cells": [
  {
   "cell_type": "markdown",
   "metadata": {},
   "source": [
    "**S3Y：某某某**<br>\n",
    "<u>问：</u><br>\n",
    "求导$f(x)=x^x$。\n",
    "\n",
    "**郑其恩老师**<br>\n",
    "<u>答：</u><br>\n",
    "此题是隐函数微分的经典应用。\n",
    "\n",
    "首先设$y:=x^x$，然后我们对左右两式取自然对数，得\n",
    "$$\\ln{y} = x\\ln{x}$$\n",
    "\n",
    "记得我们的目标是求得$f'(x)$，即$\\frac{dy}{dx}$。因此针对上式，左右两式求导，\n",
    "$$\\frac{d}{dx}\\ln{y} = \\frac{d}{dx}x\\ln{x}$$\n",
    "\n",
    "右式，利用导数的乘积法则可化为$(x\\ln{x})' = x\\cdot\\frac{1}{x} + \\ln{x}$。由于$f(x) = x^x$的定义域最多只能是$x\\in\\mathbb{R}^+$，即$x$不可为零或负数，因此右式最终可写成$1 + \\ln{x}$。\n",
    "\n",
    "左式，我们利用链导法则，\n",
    "$$\\frac{d}{dx}\\ln{y} = \\frac{dy}{dx}\\left(\\frac{d}{dy}\\ln{y}\\right) = y'\\cdot\\frac{1}{y}$$\n",
    "\n",
    "由此，比较左右两式变可得\n",
    "$$y' = y\\left(1 + \\ln{x}\\right)$$\n",
    "\n",
    "最后记得把$y$全部换掉，答案应写作\n",
    "$$f'(x) = x^x \\left(1 + \\ln{x}\\right)$$\n",
    "毕。"
   ]
  }
 ],
 "metadata": {
  "kernelspec": {
   "display_name": "Python 3",
   "language": "python",
   "name": "python3"
  },
  "language_info": {
   "codemirror_mode": {
    "name": "ipython",
    "version": 3
   },
   "file_extension": ".py",
   "mimetype": "text/x-python",
   "name": "python",
   "nbconvert_exporter": "python",
   "pygments_lexer": "ipython3",
   "version": "3.6.9"
  }
 },
 "nbformat": 4,
 "nbformat_minor": 2
}
